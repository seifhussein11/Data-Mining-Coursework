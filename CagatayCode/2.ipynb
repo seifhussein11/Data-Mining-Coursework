{
 "cells": [
  {
   "cell_type": "code",
   "execution_count": 1,
   "metadata": {},
   "outputs": [
    {
     "data": {
      "application/vnd.microsoft.datawrangler.viewer.v0+json": {
       "columns": [
        {
         "name": "index",
         "rawType": "int64",
         "type": "integer"
        },
        {
         "name": "Country",
         "rawType": "object",
         "type": "string"
        },
        {
         "name": "Age",
         "rawType": "int64",
         "type": "integer"
        },
        {
         "name": "Gender",
         "rawType": "object",
         "type": "string"
        },
        {
         "name": "Education Level",
         "rawType": "int64",
         "type": "integer"
        },
        {
         "name": "BMI",
         "rawType": "float64",
         "type": "float"
        },
        {
         "name": "Physical Activity Level",
         "rawType": "object",
         "type": "string"
        },
        {
         "name": "Smoking Status",
         "rawType": "object",
         "type": "string"
        },
        {
         "name": "Alcohol Consumption",
         "rawType": "object",
         "type": "string"
        },
        {
         "name": "Diabetes",
         "rawType": "object",
         "type": "string"
        },
        {
         "name": "Hypertension",
         "rawType": "object",
         "type": "string"
        },
        {
         "name": "Cholesterol Level",
         "rawType": "object",
         "type": "string"
        },
        {
         "name": "Family History of Alzheimer’s",
         "rawType": "object",
         "type": "string"
        },
        {
         "name": "Cognitive Test Score",
         "rawType": "int64",
         "type": "integer"
        },
        {
         "name": "Depression Level",
         "rawType": "object",
         "type": "string"
        },
        {
         "name": "Sleep Quality",
         "rawType": "object",
         "type": "string"
        },
        {
         "name": "Dietary Habits",
         "rawType": "object",
         "type": "string"
        },
        {
         "name": "Air Pollution Exposure",
         "rawType": "object",
         "type": "string"
        },
        {
         "name": "Employment Status",
         "rawType": "object",
         "type": "string"
        },
        {
         "name": "Marital Status",
         "rawType": "object",
         "type": "string"
        },
        {
         "name": "Genetic Risk Factor (APOE-ε4 allele)",
         "rawType": "object",
         "type": "string"
        },
        {
         "name": "Social Engagement Level",
         "rawType": "object",
         "type": "string"
        },
        {
         "name": "Income Level",
         "rawType": "object",
         "type": "string"
        },
        {
         "name": "Stress Levels",
         "rawType": "object",
         "type": "string"
        },
        {
         "name": "Urban vs Rural Living",
         "rawType": "object",
         "type": "string"
        },
        {
         "name": "Alzheimer’s Diagnosis",
         "rawType": "object",
         "type": "string"
        }
       ],
       "conversionMethod": "pd.DataFrame",
       "ref": "63198036-504d-450a-978c-3ee41e2ede24",
       "rows": [
        [
         "0",
         "Spain",
         "90",
         "Male",
         "1",
         "33.0",
         "Medium",
         "Never",
         "Occasionally",
         "No",
         "No",
         "Normal",
         "No",
         "90",
         "Low",
         "Poor",
         "Healthy",
         "High",
         "Retired",
         "Single",
         "No",
         "Low",
         "Medium",
         "High",
         "Urban",
         "No"
        ],
        [
         "1",
         "Argentina",
         "72",
         "Male",
         "7",
         "29.9",
         "Medium",
         "Former",
         "Never",
         "No",
         "No",
         "Normal",
         "No",
         "65",
         "Low",
         "Good",
         "Healthy",
         "Medium",
         "Unemployed",
         "Widowed",
         "No",
         "High",
         "Low",
         "High",
         "Urban",
         "No"
        ],
        [
         "2",
         "South Africa",
         "86",
         "Female",
         "19",
         "22.9",
         "High",
         "Current",
         "Occasionally",
         "No",
         "Yes",
         "Normal",
         "No",
         "43",
         "High",
         "Good",
         "Average",
         "Medium",
         "Employed",
         "Single",
         "No",
         "Low",
         "Medium",
         "High",
         "Rural",
         "No"
        ],
        [
         "3",
         "China",
         "53",
         "Male",
         "17",
         "31.2",
         "Low",
         "Never",
         "Regularly",
         "Yes",
         "No",
         "Normal",
         "No",
         "81",
         "Medium",
         "Average",
         "Healthy",
         "Medium",
         "Retired",
         "Single",
         "No",
         "High",
         "Medium",
         "Low",
         "Rural",
         "No"
        ],
        [
         "4",
         "Sweden",
         "58",
         "Female",
         "3",
         "30.0",
         "High",
         "Former",
         "Never",
         "Yes",
         "No",
         "Normal",
         "No",
         "49",
         "High",
         "Poor",
         "Unhealthy",
         "High",
         "Employed",
         "Married",
         "No",
         "Low",
         "Medium",
         "High",
         "Rural",
         "No"
        ]
       ],
       "shape": {
        "columns": 25,
        "rows": 5
       }
      },
      "text/html": [
       "<div>\n",
       "<style scoped>\n",
       "    .dataframe tbody tr th:only-of-type {\n",
       "        vertical-align: middle;\n",
       "    }\n",
       "\n",
       "    .dataframe tbody tr th {\n",
       "        vertical-align: top;\n",
       "    }\n",
       "\n",
       "    .dataframe thead th {\n",
       "        text-align: right;\n",
       "    }\n",
       "</style>\n",
       "<table border=\"1\" class=\"dataframe\">\n",
       "  <thead>\n",
       "    <tr style=\"text-align: right;\">\n",
       "      <th></th>\n",
       "      <th>Country</th>\n",
       "      <th>Age</th>\n",
       "      <th>Gender</th>\n",
       "      <th>Education Level</th>\n",
       "      <th>BMI</th>\n",
       "      <th>Physical Activity Level</th>\n",
       "      <th>Smoking Status</th>\n",
       "      <th>Alcohol Consumption</th>\n",
       "      <th>Diabetes</th>\n",
       "      <th>Hypertension</th>\n",
       "      <th>...</th>\n",
       "      <th>Dietary Habits</th>\n",
       "      <th>Air Pollution Exposure</th>\n",
       "      <th>Employment Status</th>\n",
       "      <th>Marital Status</th>\n",
       "      <th>Genetic Risk Factor (APOE-ε4 allele)</th>\n",
       "      <th>Social Engagement Level</th>\n",
       "      <th>Income Level</th>\n",
       "      <th>Stress Levels</th>\n",
       "      <th>Urban vs Rural Living</th>\n",
       "      <th>Alzheimer’s Diagnosis</th>\n",
       "    </tr>\n",
       "  </thead>\n",
       "  <tbody>\n",
       "    <tr>\n",
       "      <th>0</th>\n",
       "      <td>Spain</td>\n",
       "      <td>90</td>\n",
       "      <td>Male</td>\n",
       "      <td>1</td>\n",
       "      <td>33.0</td>\n",
       "      <td>Medium</td>\n",
       "      <td>Never</td>\n",
       "      <td>Occasionally</td>\n",
       "      <td>No</td>\n",
       "      <td>No</td>\n",
       "      <td>...</td>\n",
       "      <td>Healthy</td>\n",
       "      <td>High</td>\n",
       "      <td>Retired</td>\n",
       "      <td>Single</td>\n",
       "      <td>No</td>\n",
       "      <td>Low</td>\n",
       "      <td>Medium</td>\n",
       "      <td>High</td>\n",
       "      <td>Urban</td>\n",
       "      <td>No</td>\n",
       "    </tr>\n",
       "    <tr>\n",
       "      <th>1</th>\n",
       "      <td>Argentina</td>\n",
       "      <td>72</td>\n",
       "      <td>Male</td>\n",
       "      <td>7</td>\n",
       "      <td>29.9</td>\n",
       "      <td>Medium</td>\n",
       "      <td>Former</td>\n",
       "      <td>Never</td>\n",
       "      <td>No</td>\n",
       "      <td>No</td>\n",
       "      <td>...</td>\n",
       "      <td>Healthy</td>\n",
       "      <td>Medium</td>\n",
       "      <td>Unemployed</td>\n",
       "      <td>Widowed</td>\n",
       "      <td>No</td>\n",
       "      <td>High</td>\n",
       "      <td>Low</td>\n",
       "      <td>High</td>\n",
       "      <td>Urban</td>\n",
       "      <td>No</td>\n",
       "    </tr>\n",
       "    <tr>\n",
       "      <th>2</th>\n",
       "      <td>South Africa</td>\n",
       "      <td>86</td>\n",
       "      <td>Female</td>\n",
       "      <td>19</td>\n",
       "      <td>22.9</td>\n",
       "      <td>High</td>\n",
       "      <td>Current</td>\n",
       "      <td>Occasionally</td>\n",
       "      <td>No</td>\n",
       "      <td>Yes</td>\n",
       "      <td>...</td>\n",
       "      <td>Average</td>\n",
       "      <td>Medium</td>\n",
       "      <td>Employed</td>\n",
       "      <td>Single</td>\n",
       "      <td>No</td>\n",
       "      <td>Low</td>\n",
       "      <td>Medium</td>\n",
       "      <td>High</td>\n",
       "      <td>Rural</td>\n",
       "      <td>No</td>\n",
       "    </tr>\n",
       "    <tr>\n",
       "      <th>3</th>\n",
       "      <td>China</td>\n",
       "      <td>53</td>\n",
       "      <td>Male</td>\n",
       "      <td>17</td>\n",
       "      <td>31.2</td>\n",
       "      <td>Low</td>\n",
       "      <td>Never</td>\n",
       "      <td>Regularly</td>\n",
       "      <td>Yes</td>\n",
       "      <td>No</td>\n",
       "      <td>...</td>\n",
       "      <td>Healthy</td>\n",
       "      <td>Medium</td>\n",
       "      <td>Retired</td>\n",
       "      <td>Single</td>\n",
       "      <td>No</td>\n",
       "      <td>High</td>\n",
       "      <td>Medium</td>\n",
       "      <td>Low</td>\n",
       "      <td>Rural</td>\n",
       "      <td>No</td>\n",
       "    </tr>\n",
       "    <tr>\n",
       "      <th>4</th>\n",
       "      <td>Sweden</td>\n",
       "      <td>58</td>\n",
       "      <td>Female</td>\n",
       "      <td>3</td>\n",
       "      <td>30.0</td>\n",
       "      <td>High</td>\n",
       "      <td>Former</td>\n",
       "      <td>Never</td>\n",
       "      <td>Yes</td>\n",
       "      <td>No</td>\n",
       "      <td>...</td>\n",
       "      <td>Unhealthy</td>\n",
       "      <td>High</td>\n",
       "      <td>Employed</td>\n",
       "      <td>Married</td>\n",
       "      <td>No</td>\n",
       "      <td>Low</td>\n",
       "      <td>Medium</td>\n",
       "      <td>High</td>\n",
       "      <td>Rural</td>\n",
       "      <td>No</td>\n",
       "    </tr>\n",
       "  </tbody>\n",
       "</table>\n",
       "<p>5 rows × 25 columns</p>\n",
       "</div>"
      ],
      "text/plain": [
       "        Country  Age  Gender  Education Level   BMI Physical Activity Level  \\\n",
       "0         Spain   90    Male                1  33.0                  Medium   \n",
       "1     Argentina   72    Male                7  29.9                  Medium   \n",
       "2  South Africa   86  Female               19  22.9                    High   \n",
       "3         China   53    Male               17  31.2                     Low   \n",
       "4        Sweden   58  Female                3  30.0                    High   \n",
       "\n",
       "  Smoking Status Alcohol Consumption Diabetes Hypertension  ...  \\\n",
       "0          Never        Occasionally       No           No  ...   \n",
       "1         Former               Never       No           No  ...   \n",
       "2        Current        Occasionally       No          Yes  ...   \n",
       "3          Never           Regularly      Yes           No  ...   \n",
       "4         Former               Never      Yes           No  ...   \n",
       "\n",
       "  Dietary Habits Air Pollution Exposure  Employment Status Marital Status  \\\n",
       "0        Healthy                   High            Retired         Single   \n",
       "1        Healthy                 Medium         Unemployed        Widowed   \n",
       "2        Average                 Medium           Employed         Single   \n",
       "3        Healthy                 Medium            Retired         Single   \n",
       "4      Unhealthy                   High           Employed        Married   \n",
       "\n",
       "  Genetic Risk Factor (APOE-ε4 allele) Social Engagement Level Income Level  \\\n",
       "0                                   No                     Low       Medium   \n",
       "1                                   No                    High          Low   \n",
       "2                                   No                     Low       Medium   \n",
       "3                                   No                    High       Medium   \n",
       "4                                   No                     Low       Medium   \n",
       "\n",
       "  Stress Levels Urban vs Rural Living Alzheimer’s Diagnosis  \n",
       "0          High                 Urban                    No  \n",
       "1          High                 Urban                    No  \n",
       "2          High                 Rural                    No  \n",
       "3           Low                 Rural                    No  \n",
       "4          High                 Rural                    No  \n",
       "\n",
       "[5 rows x 25 columns]"
      ]
     },
     "execution_count": 1,
     "metadata": {},
     "output_type": "execute_result"
    }
   ],
   "source": [
    "import pandas as pd\n",
    "import numpy as np\n",
    "import matplotlib.pyplot as plt\n",
    "from sklearn.model_selection import train_test_split\n",
    "from sklearn.metrics import mean_squared_error\n",
    "\n",
    "df = pd.read_csv('alz.csv')\n",
    "df.head()"
   ]
  },
  {
   "cell_type": "code",
   "execution_count": 2,
   "metadata": {},
   "outputs": [
    {
     "name": "stdout",
     "output_type": "stream",
     "text": [
      "cat_cols = ['Country', 'Gender', 'Physical Activity Level', 'Smoking Status', 'Alcohol Consumption', 'Diabetes', 'Hypertension', 'Cholesterol Level', 'Family History of Alzheimer’s', 'Depression Level', 'Sleep Quality', 'Dietary Habits', 'Air Pollution Exposure', 'Employment Status', 'Marital Status', 'Genetic Risk Factor (APOE-ε4 allele)', 'Social Engagement Level', 'Income Level', 'Stress Levels', 'Urban vs Rural Living', 'Alzheimer’s Diagnosis', 'Education Level']\n",
      "num_cols = ['Age', 'BMI', 'Cognitive Test Score']\n",
      "num_but_cat = ['Education Level']\n",
      "cat_but_car= []\n"
     ]
    }
   ],
   "source": [
    "def grab_cols(df):\n",
    "    num_cols = list(df.select_dtypes(include=\"number\"))\n",
    "    cat_cols = [col for col in df.columns if col not in num_cols]\n",
    "    num_but_cat = [col for col in num_cols if df[col].nunique()<25]\n",
    "    cat_but_car = [col for col in cat_cols if df[col].nunique() >25]\n",
    "    cat_cols = cat_cols + num_but_cat\n",
    "    cat_cols = [col for col in cat_cols if col not in cat_but_car]\n",
    "    num_cols = [col for col in num_cols if col not in num_but_cat]\n",
    "    print(f\"cat_cols = {cat_cols}\")\n",
    "    print(f\"num_cols = {num_cols}\")\n",
    "    print(f\"num_but_cat = {num_but_cat}\")\n",
    "    print(f\"cat_but_car= {cat_but_car}\")\n",
    "    return cat_cols,num_cols,cat_but_car,num_but_cat\n",
    "cat_cols,num_cols,cat_but_car,num_but_cat = grab_cols(df)"
   ]
  },
  {
   "cell_type": "code",
   "execution_count": 3,
   "metadata": {},
   "outputs": [
    {
     "data": {
      "text/plain": [
       "Country\n",
       "Russia          50.449974\n",
       "India           50.334135\n",
       "South Africa    49.521277\n",
       "Brazil          48.580359\n",
       "Mexico          48.471373\n",
       "South Korea     41.586281\n",
       "Saudi Arabia    41.425451\n",
       "Germany         41.082217\n",
       "UK              40.372501\n",
       "Australia       40.269342\n",
       "Argentina       40.203699\n",
       "France          40.053908\n",
       "Spain           39.994592\n",
       "Italy           39.339420\n",
       "USA             38.855088\n",
       "China           38.641425\n",
       "Norway          34.970318\n",
       "Sweden          34.209813\n",
       "Canada          34.141741\n",
       "Japan           33.937617\n",
       "Name: count, dtype: float64"
      ]
     },
     "execution_count": 3,
     "metadata": {},
     "output_type": "execute_result"
    }
   ],
   "source": [
    "yes_counts = df[df['Alzheimer’s Diagnosis'] == 'Yes']['Country'].value_counts()\n",
    "\n",
    "total_counts = df['Country'].value_counts()\n",
    "\n",
    "percentages = (yes_counts / total_counts * 100).sort_values(ascending=False)\n",
    "percentages"
   ]
  },
  {
   "cell_type": "code",
   "execution_count": 5,
   "metadata": {},
   "outputs": [
    {
     "name": "stdout",
     "output_type": "stream",
     "text": [
      "Age False\n",
      "BMI False\n",
      "Cognitive Test Score False\n"
     ]
    }
   ],
   "source": [
    "def outliers(df,variable):\n",
    "    q1= df[variable].quantile(0.2)\n",
    "    q3 = df[variable].quantile(0.8)\n",
    "    iqr = q3 - q1\n",
    "    lower_lim = q1 - 1.5*iqr\n",
    "    upper_lim = q3 + 1.5*iqr\n",
    "    return lower_lim,upper_lim\n",
    "\n",
    "def check_outliers(df,variable):\n",
    "    lower_lim,upper_lim = outliers(df,variable)\n",
    "    if df.loc[(df[variable]<lower_lim) | (df[variable]>upper_lim)].any(axis=None):\n",
    "        return True\n",
    "    else:\n",
    "        return False\n",
    "    \n",
    "for col in num_cols:\n",
    "    print(col,check_outliers(df,col))"
   ]
  },
  {
   "cell_type": "code",
   "execution_count": 7,
   "metadata": {},
   "outputs": [
    {
     "data": {
      "text/plain": [
       "0        No\n",
       "1        No\n",
       "2        No\n",
       "3        No\n",
       "4        No\n",
       "         ..\n",
       "74278    No\n",
       "74279    No\n",
       "74280    No\n",
       "74281    No\n",
       "74282    No\n",
       "Name: Alzheimer’s Diagnosis, Length: 74283, dtype: object"
      ]
     },
     "execution_count": 7,
     "metadata": {},
     "output_type": "execute_result"
    }
   ],
   "source": [
    "df['Alzheimer’s Diagnosis']"
   ]
  },
  {
   "cell_type": "code",
   "execution_count": 8,
   "metadata": {},
   "outputs": [],
   "source": [
    "df['Alzheimer’s Diagnosis'] = df['Alzheimer’s Diagnosis'].map({'Yes':1,'No':0})"
   ]
  },
  {
   "cell_type": "code",
   "execution_count": null,
   "metadata": {},
   "outputs": [],
   "source": [
    "def ohe(dataframe,cat_cols):\n",
    "    dataframe = pd.get_dummies(dataframe,columns=cat_cols,drop_first=True,dtype=int)\n",
    "    return dataframe"
   ]
  },
  {
   "cell_type": "code",
   "execution_count": 9,
   "metadata": {},
   "outputs": [
    {
     "name": "stdout",
     "output_type": "stream",
     "text": [
      "Country : 20\n",
      "                 Ratio  Count  Target_Mean\n",
      "Country                                   \n",
      "Brazil        0.051681   3839     0.485804\n",
      "Germany       0.051250   3807     0.410822\n",
      "Australia     0.050981   3787     0.402693\n",
      "Russia        0.050860   3778     0.504500\n",
      "South Africa  0.050617   3760     0.495213\n",
      "Japan         0.050496   3751     0.339376\n",
      "India         0.050361   3741     0.503341\n",
      "South Korea   0.050240   3732     0.415863\n",
      "Argentina     0.050227   3731     0.402037\n",
      "Italy         0.050133   3724     0.393394\n",
      "Canada        0.049958   3711     0.341417\n",
      "France        0.049944   3710     0.400539\n",
      "Norway        0.049890   3706     0.349703\n",
      "Spain         0.049783   3698     0.399946\n",
      "Sweden        0.049661   3689     0.342098\n",
      "Saudi Arabia  0.049298   3662     0.414255\n",
      "UK            0.049150   3651     0.403725\n",
      "USA           0.048679   3616     0.388551\n",
      "Mexico        0.048436   3598     0.484714\n",
      "China         0.048356   3592     0.386414\n",
      "-------------------------------------------------------\n",
      "Gender : 2\n",
      "           Ratio  Count  Target_Mean\n",
      "Gender                              \n",
      "Female  0.501447  37249     0.412790\n",
      "Male    0.498553  37034     0.414133\n",
      "-------------------------------------------------------\n",
      "Physical Activity Level : 3\n",
      "                            Ratio  Count  Target_Mean\n",
      "Physical Activity Level                              \n",
      "High                     0.334572  24853     0.415564\n",
      "Low                      0.333239  24754     0.412782\n",
      "Medium                   0.332189  24676     0.412020\n",
      "-------------------------------------------------------\n",
      "Smoking Status : 3\n",
      "                   Ratio  Count  Target_Mean\n",
      "Smoking Status                              \n",
      "Current         0.335406  24915     0.411680\n",
      "Never           0.333051  24740     0.416128\n",
      "Former          0.331543  24628     0.412579\n",
      "-------------------------------------------------------\n",
      "Alcohol Consumption : 3\n",
      "                        Ratio  Count  Target_Mean\n",
      "Alcohol Consumption                              \n",
      "Never                0.334733  24865     0.410456\n",
      "Regularly            0.333024  24738     0.412604\n",
      "Occasionally         0.332243  24680     0.417342\n",
      "-------------------------------------------------------\n",
      "Diabetes : 2\n",
      "             Ratio  Count  Target_Mean\n",
      "Diabetes                              \n",
      "No        0.801354  59527     0.414115\n",
      "Yes       0.198646  14756     0.410816\n",
      "-------------------------------------------------------\n",
      "Hypertension : 2\n",
      "                 Ratio  Count  Target_Mean\n",
      "Hypertension                              \n",
      "No            0.701829  52134     0.413837\n",
      "Yes           0.298171  22149     0.412569\n",
      "-------------------------------------------------------\n",
      "Cholesterol Level : 2\n",
      "                      Ratio  Count  Target_Mean\n",
      "Cholesterol Level                              \n",
      "Normal             0.699662  51973     0.414138\n",
      "High               0.300338  22310     0.411878\n",
      "-------------------------------------------------------\n",
      "Family History of Alzheimer’s : 2\n",
      "                                  Ratio  Count  Target_Mean\n",
      "Family History of Alzheimer’s                              \n",
      "No                             0.700079  52004     0.368049\n",
      "Yes                            0.299921  22279     0.519458\n",
      "-------------------------------------------------------\n",
      "Depression Level : 3\n",
      "                     Ratio  Count  Target_Mean\n",
      "Depression Level                              \n",
      "Medium            0.334437  24843     0.411544\n",
      "Low               0.333293  24758     0.414129\n",
      "High              0.332270  24682     0.414715\n",
      "-------------------------------------------------------\n",
      "Sleep Quality : 3\n",
      "                  Ratio  Count  Target_Mean\n",
      "Sleep Quality                              \n",
      "Good           0.338503  25145     0.412806\n",
      "Average        0.332714  24715     0.413433\n",
      "Poor           0.328783  24423     0.414159\n",
      "-------------------------------------------------------\n",
      "Dietary Habits : 3\n",
      "                   Ratio  Count  Target_Mean\n",
      "Dietary Habits                              \n",
      "Average         0.335433  24917     0.412610\n",
      "Healthy         0.332351  24688     0.411252\n",
      "Unhealthy       0.332216  24678     0.416525\n",
      "-------------------------------------------------------\n",
      "Air Pollution Exposure : 3\n",
      "                           Ratio  Count  Target_Mean\n",
      "Air Pollution Exposure                              \n",
      "High                    0.335285  24906     0.411828\n",
      "Medium                  0.332795  24721     0.411917\n",
      "Low                     0.331920  24656     0.416653\n",
      "-------------------------------------------------------\n",
      "Employment Status : 3\n",
      "                      Ratio  Count  Target_Mean\n",
      "Employment Status                              \n",
      "Unemployed         0.333872  24801     0.413935\n",
      "Employed           0.333253  24755     0.409695\n",
      "Retired            0.332876  24727     0.416751\n",
      "-------------------------------------------------------\n",
      "Marital Status : 3\n",
      "                   Ratio  Count  Target_Mean\n",
      "Marital Status                              \n",
      "Single          0.338826  25169     0.412690\n",
      "Married         0.330802  24573     0.414520\n",
      "Widowed         0.330372  24541     0.413186\n",
      "-------------------------------------------------------\n",
      "Genetic Risk Factor (APOE-ε4 allele) : 2\n",
      "                                         Ratio  Count  Target_Mean\n",
      "Genetic Risk Factor (APOE-ε4 allele)                              \n",
      "No                                    0.801812  59561     0.365843\n",
      "Yes                                   0.198188  14722     0.606100\n",
      "-------------------------------------------------------\n",
      "Social Engagement Level : 3\n",
      "                            Ratio  Count  Target_Mean\n",
      "Social Engagement Level                              \n",
      "Medium                   0.334653  24859     0.414216\n",
      "Low                      0.332876  24727     0.414891\n",
      "High                     0.332472  24697     0.411265\n",
      "-------------------------------------------------------\n",
      "Income Level : 3\n",
      "                 Ratio  Count  Target_Mean\n",
      "Income Level                              \n",
      "Low           0.334841  24873     0.411289\n",
      "High          0.334505  24848     0.410818\n",
      "Medium        0.330654  24562     0.418329\n",
      "-------------------------------------------------------\n",
      "Stress Levels : 3\n",
      "                  Ratio  Count  Target_Mean\n",
      "Stress Levels                              \n",
      "Medium         0.335016  24886     0.411476\n",
      "Low            0.332916  24730     0.411808\n",
      "High           0.332068  24667     0.417116\n",
      "-------------------------------------------------------\n",
      "Urban vs Rural Living : 2\n",
      "                          Ratio  Count  Target_Mean\n",
      "Urban vs Rural Living                              \n",
      "Rural                  0.500828  37203     0.415477\n",
      "Urban                  0.499172  37080     0.411435\n",
      "-------------------------------------------------------\n",
      "Alzheimer’s Diagnosis : 2\n",
      "                          Ratio  Count  Target_Mean\n",
      "Alzheimer’s Diagnosis                              \n",
      "0                      0.586541  43570          0.0\n",
      "1                      0.413459  30713          1.0\n",
      "-------------------------------------------------------\n",
      "Education Level : 20\n",
      "                    Ratio  Count  Target_Mean\n",
      "Education Level                              \n",
      "14               0.051290   3810     0.412073\n",
      "1                0.050913   3782     0.412745\n",
      "6                0.050886   3780     0.421693\n",
      "15               0.050806   3774     0.419184\n",
      "7                0.050442   3747     0.419002\n",
      "4                0.050361   3741     0.391874\n",
      "8                0.050052   3718     0.406132\n",
      "9                0.050011   3715     0.414805\n",
      "3                0.050011   3715     0.404038\n",
      "17               0.049958   3711     0.419294\n",
      "2                0.049931   3709     0.410892\n",
      "16               0.049863   3704     0.408747\n",
      "11               0.049823   3701     0.437449\n",
      "12               0.049621   3686     0.409116\n",
      "10               0.049608   3685     0.417096\n",
      "5                0.049608   3685     0.418453\n",
      "18               0.049500   3677     0.409301\n",
      "13               0.049325   3664     0.395197\n",
      "0                0.049083   3646     0.416072\n",
      "19               0.048908   3633     0.426094\n",
      "-------------------------------------------------------\n"
     ]
    }
   ],
   "source": [
    "def rare_analysis(df,target,cat_cols):\n",
    "    for col in cat_cols:\n",
    "        print(col,\":\",len(df[col].value_counts()))\n",
    "        df_ratio = (df[col].value_counts() /len(df)).sort_values(ascending=False)\n",
    "        df_count = df[col].value_counts().loc[df_ratio.index]\n",
    "        df_target_mean = df.groupby(col)[target].mean().loc[df_ratio.index]\n",
    "        print(pd.DataFrame({\"Ratio\": df_ratio,\n",
    "              \"Count\": df_count,\n",
    "              \"Target_Mean\": df_target_mean}))\n",
    "        print(\"-------------------------------------------------------\")\n",
    "        \n",
    "rare_analysis(df,\"Alzheimer’s Diagnosis\",cat_cols)"
   ]
  },
  {
   "cell_type": "code",
   "execution_count": 23,
   "metadata": {},
   "outputs": [
    {
     "data": {
      "text/plain": [
       "0        72.042994\n",
       "1        72.042994\n",
       "2        72.167054\n",
       "3        71.870761\n",
       "4        72.022621\n",
       "           ...    \n",
       "74278    71.870761\n",
       "74279    72.042994\n",
       "74280    72.042994\n",
       "74281    72.022621\n",
       "74282    72.042994\n",
       "Name: Age, Length: 74283, dtype: float64"
      ]
     },
     "execution_count": 23,
     "metadata": {},
     "output_type": "execute_result"
    }
   ],
   "source": [
    "df.groupby([\"Depression Level\",\"Hypertension\"])[\"Age\"].transform(\"mean\")"
   ]
  },
  {
   "cell_type": "code",
   "execution_count": 22,
   "metadata": {},
   "outputs": [
    {
     "data": {
      "text/plain": [
       "Depression Level  Sleep Quality\n",
       "High              Average          72.002057\n",
       "                  Good             72.151880\n",
       "                  Poor             72.041497\n",
       "Low               Average          72.143205\n",
       "                  Good             71.944179\n",
       "                  Poor             72.019620\n",
       "Medium            Average          71.579516\n",
       "                  Good             71.974365\n",
       "                  Poor             71.824844\n",
       "Name: Age, dtype: float64"
      ]
     },
     "execution_count": 22,
     "metadata": {},
     "output_type": "execute_result"
    }
   ],
   "source": [
    "df.groupby([\"Depression Level\",\"Sleep Quality\"])[\"Age\"].mean()"
   ]
  },
  {
   "cell_type": "code",
   "execution_count": null,
   "metadata": {},
   "outputs": [],
   "source": [
    "def high_correlated_cols(dataframe, plot=False, corr_th=0.9):\n",
    "    corr = dataframe.corr()\n",
    "    cor_matrix = corr.abs()\n",
    "    upper_triangle_matrix = cor_matrix.where(np.triu(np.ones(cor_matrix.shape), k=1).astype(bool))\n",
    "    drop_list = [col for col in upper_triangle_matrix.columns if any(upper_triangle_matrix[col] > corr_th)]\n",
    "    \n",
    "    if plot:\n",
    "        import seaborn as sns\n",
    "        import matplotlib.pyplot as plt\n",
    "        sns.set(rc={'figure.figsize': (15, 15)})\n",
    "        \n",
    "        # upper_triangle_matrix'ı görselleştirmek için aşağıdaki satırı kullanabilirsiniz.\n",
    "        sns.heatmap(upper_triangle_matrix, cmap=\"RdBu\", annot=True, cbar=False, linewidths=0.5, linecolor='gray')\n",
    "        plt.show()\n",
    "    return drop_list\n",
    "high_correlated_cols(dff.isnull().astype(int),plot=True)\n"
   ]
  },
  {
   "cell_type": "code",
   "execution_count": null,
   "metadata": {},
   "outputs": [],
   "source": [
    "def label_encoder(df,binary_col):\n",
    "    le = LabelEncoder()\n",
    "    df[binary_col] = le.fit_transform(df[binary_col])\n",
    "    \n",
    "binary_cols = [col for col in df.columns if not np.issubdtype(df[col],np.number) and df[col].nunique()==2]\n",
    "binary_cols\n",
    "for col in binary_cols:\n",
    "    label_encoder(df,col)"
   ]
  },
  {
   "cell_type": "code",
   "execution_count": null,
   "metadata": {},
   "outputs": [],
   "source": [
    "df.groupby(\"new_title\").agg({\"Age\":[\"mean\",\"count\"]})"
   ]
  },
  {
   "cell_type": "code",
   "execution_count": null,
   "metadata": {},
   "outputs": [],
   "source": [
    "df.loc[(df[\"sibsp\"]+df[\"parch\"])>0,\"is_alone\"] = 0\n",
    "df.loc[(df[\"sibsp\"]+df[\"parch\"]==0),\"is_alone\"] = 1\n",
    "\n",
    "df.loc[(df[\"sex\"]==\"male\") & (df[\"age\"]<=21),\"new_sex_cat\"] =\"youngmale\"\n",
    "df.loc[(df[\"sex\"]==\"male\") & (df[\"age\"]>21) & (df[\"age\"]<=50),\"new_sex_cat\"] = \"maturemale\"\n",
    "df.loc[(df[\"sex\"]==\"male\") & (df[\"age\"]>50),\"new_sex_cat\"] = \"seniormale"
   ]
  },
  {
   "cell_type": "code",
   "execution_count": null,
   "metadata": {},
   "outputs": [],
   "source": [
    "from feature_engine.encoding import OneHotEncoder\n",
    "ohe = OneHotEncoder(variables=ohe_cols,drop_last=True)\n",
    "df3=ohe.fit_transform(df3)"
   ]
  },
  {
   "cell_type": "code",
   "execution_count": null,
   "metadata": {},
   "outputs": [],
   "source": [
    "df.groupby(\"Description\")[[\"Quantity\"]].sum().sort_values(by=\"Quantity\",ascending =False)"
   ]
  },
  {
   "cell_type": "code",
   "execution_count": null,
   "metadata": {},
   "outputs": [],
   "source": [
    "df.loc[((df[\"age\"]>50) & (df[\"sex\"]==\"female\")),[\"sibsp\",\"pclass\",\"sex\"]].head()"
   ]
  },
  {
   "cell_type": "code",
   "execution_count": null,
   "metadata": {},
   "outputs": [],
   "source": [
    "df[\"sex\"].value_counts().plot(kind=\"bar\",color=\"orange\")"
   ]
  },
  {
   "cell_type": "code",
   "execution_count": null,
   "metadata": {},
   "outputs": [],
   "source": [
    "df.total_bill.hist(color =\"orange\",bins=60)"
   ]
  },
  {
   "cell_type": "code",
   "execution_count": null,
   "metadata": {},
   "outputs": [],
   "source": [
    "list(df.select_dtypes(exclude=\"number\"))"
   ]
  },
  {
   "cell_type": "code",
   "execution_count": null,
   "metadata": {},
   "outputs": [],
   "source": [
    "y_train.groupby(X_train[\"Neighborhood\"]).mean().plot()"
   ]
  },
  {
   "cell_type": "code",
   "execution_count": null,
   "metadata": {},
   "outputs": [],
   "source": [
    "for var in X_train.columns:\n",
    "    \n",
    "    fig=plt.figure()\n",
    "    fig = y_train.groupby(X_train[var]).mean().plot(color =\"orange\")\n",
    "    fig.set_title(var)\n",
    "    fig.set_ylabel(\"mean_saleprice\")\n",
    "    plt.show()"
   ]
  },
  {
   "cell_type": "code",
   "execution_count": null,
   "metadata": {},
   "outputs": [],
   "source": [
    "for var in X_train.columns:\n",
    "    \n",
    "    plt.figure()\n",
    "    fig = y_train.groupby(X_train[var]).mean().plot(color = \"orange\")\n",
    "    fig.set_title(f\"monotonic between {var} and Saleprice \")\n",
    "    fig.set_ylabel(\"mean saleprice\")\n",
    "    plt.show()"
   ]
  },
  {
   "cell_type": "code",
   "execution_count": null,
   "metadata": {},
   "outputs": [],
   "source": [
    "ordinal_enc = OrdinalEncoder(encoding_method=\"ordered\",\n",
    "                             variables=list(X_train.columns))\n",
    "\n",
    "ordinal_enc.fit(X_train, y_train)"
   ]
  },
  {
   "cell_type": "code",
   "execution_count": null,
   "metadata": {},
   "outputs": [],
   "source": [
    "ordered_labels = y_train.groupby(X_train[\"Cabin_1\"]).mean().to_dict()\n",
    "ordered_labels"
   ]
  },
  {
   "cell_type": "code",
   "execution_count": null,
   "metadata": {},
   "outputs": [],
   "source": [
    "from feature_engine.encoding import MeanEncoder\n",
    "mean_enc = MeanEncoder(variables =list(X_train.columns),smoothing=\"auto\")\n",
    "mean_enc.fit(X_train, y_train)\n",
    "mean_enc.encoder_dict_"
   ]
  },
  {
   "cell_type": "code",
   "execution_count": null,
   "metadata": {},
   "outputs": [],
   "source": [
    "for col in X_test.columns:\n",
    "    fig = plt.figure()\n",
    "    fig = y_test.groupby(X_test[col]).mean().plot(color = \"orange\")\n",
    "    plt.show()"
   ]
  },
  {
   "cell_type": "code",
   "execution_count": null,
   "metadata": {},
   "outputs": [],
   "source": [
    "from category_encoders.target_encoder import TargetEncoder\n",
    "\n",
    "target_enc = TargetEncoder(cols=list(X_train.columns),\n",
    "                           smoothing=10)\n",
    "\n",
    "target_enc.fit(X_train,y_train)\n",
    "target_enc.mapping"
   ]
  },
  {
   "cell_type": "code",
   "execution_count": null,
   "metadata": {},
   "outputs": [],
   "source": [
    "for col in cat_but_car:\n",
    "    temp_df = pd.Series(X_train[col].value_counts()/len(X_train))\n",
    "    fig = temp_df.sort_values(ascending=False).plot.bar(color=\"orange\")\n",
    "    fig.set_xlabel(col)\n",
    "    fig.axhline(y=0.05,color=\"red\")\n",
    "    fig.set_ylabel(\"percentage\")\n",
    "    plt.show()"
   ]
  },
  {
   "cell_type": "code",
   "execution_count": null,
   "metadata": {},
   "outputs": [],
   "source": [
    "dft.hist(bins=50,color='orange',figsize=(12,6))"
   ]
  }
 ],
 "metadata": {
  "kernelspec": {
   "display_name": "datamining",
   "language": "python",
   "name": "python3"
  },
  "language_info": {
   "codemirror_mode": {
    "name": "ipython",
    "version": 3
   },
   "file_extension": ".py",
   "mimetype": "text/x-python",
   "name": "python",
   "nbconvert_exporter": "python",
   "pygments_lexer": "ipython3",
   "version": "3.11.9"
  }
 },
 "nbformat": 4,
 "nbformat_minor": 2
}
