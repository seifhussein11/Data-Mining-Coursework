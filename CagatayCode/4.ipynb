{
 "cells": [
  {
   "cell_type": "code",
   "execution_count": 1,
   "metadata": {},
   "outputs": [
    {
     "data": {
      "application/vnd.microsoft.datawrangler.viewer.v0+json": {
       "columns": [
        {
         "name": "index",
         "rawType": "int64",
         "type": "integer"
        },
        {
         "name": "Country",
         "rawType": "object",
         "type": "string"
        },
        {
         "name": "Age",
         "rawType": "int64",
         "type": "integer"
        },
        {
         "name": "Gender",
         "rawType": "object",
         "type": "string"
        },
        {
         "name": "Education Level",
         "rawType": "int64",
         "type": "integer"
        },
        {
         "name": "BMI",
         "rawType": "float64",
         "type": "float"
        },
        {
         "name": "Physical Activity Level",
         "rawType": "object",
         "type": "string"
        },
        {
         "name": "Smoking Status",
         "rawType": "object",
         "type": "string"
        },
        {
         "name": "Alcohol Consumption",
         "rawType": "object",
         "type": "string"
        },
        {
         "name": "Diabetes",
         "rawType": "object",
         "type": "string"
        },
        {
         "name": "Hypertension",
         "rawType": "object",
         "type": "string"
        },
        {
         "name": "Cholesterol Level",
         "rawType": "object",
         "type": "string"
        },
        {
         "name": "Family History of Alzheimer’s",
         "rawType": "object",
         "type": "string"
        },
        {
         "name": "Cognitive Test Score",
         "rawType": "int64",
         "type": "integer"
        },
        {
         "name": "Depression Level",
         "rawType": "object",
         "type": "string"
        },
        {
         "name": "Sleep Quality",
         "rawType": "object",
         "type": "string"
        },
        {
         "name": "Dietary Habits",
         "rawType": "object",
         "type": "string"
        },
        {
         "name": "Air Pollution Exposure",
         "rawType": "object",
         "type": "string"
        },
        {
         "name": "Employment Status",
         "rawType": "object",
         "type": "string"
        },
        {
         "name": "Marital Status",
         "rawType": "object",
         "type": "string"
        },
        {
         "name": "Genetic Risk Factor (APOE-ε4 allele)",
         "rawType": "object",
         "type": "string"
        },
        {
         "name": "Social Engagement Level",
         "rawType": "object",
         "type": "string"
        },
        {
         "name": "Income Level",
         "rawType": "object",
         "type": "string"
        },
        {
         "name": "Stress Levels",
         "rawType": "object",
         "type": "string"
        },
        {
         "name": "Urban vs Rural Living",
         "rawType": "object",
         "type": "string"
        },
        {
         "name": "Alzheimer’s Diagnosis",
         "rawType": "object",
         "type": "string"
        }
       ],
       "conversionMethod": "pd.DataFrame",
       "ref": "c7d9beeb-3371-4685-8d9e-d8e93b18b099",
       "rows": [
        [
         "0",
         "Spain",
         "90",
         "Male",
         "1",
         "33.0",
         "Medium",
         "Never",
         "Occasionally",
         "No",
         "No",
         "Normal",
         "No",
         "90",
         "Low",
         "Poor",
         "Healthy",
         "High",
         "Retired",
         "Single",
         "No",
         "Low",
         "Medium",
         "High",
         "Urban",
         "No"
        ],
        [
         "1",
         "Argentina",
         "72",
         "Male",
         "7",
         "29.9",
         "Medium",
         "Former",
         "Never",
         "No",
         "No",
         "Normal",
         "No",
         "65",
         "Low",
         "Good",
         "Healthy",
         "Medium",
         "Unemployed",
         "Widowed",
         "No",
         "High",
         "Low",
         "High",
         "Urban",
         "No"
        ],
        [
         "2",
         "South Africa",
         "86",
         "Female",
         "19",
         "22.9",
         "High",
         "Current",
         "Occasionally",
         "No",
         "Yes",
         "Normal",
         "No",
         "43",
         "High",
         "Good",
         "Average",
         "Medium",
         "Employed",
         "Single",
         "No",
         "Low",
         "Medium",
         "High",
         "Rural",
         "No"
        ],
        [
         "3",
         "China",
         "53",
         "Male",
         "17",
         "31.2",
         "Low",
         "Never",
         "Regularly",
         "Yes",
         "No",
         "Normal",
         "No",
         "81",
         "Medium",
         "Average",
         "Healthy",
         "Medium",
         "Retired",
         "Single",
         "No",
         "High",
         "Medium",
         "Low",
         "Rural",
         "No"
        ],
        [
         "4",
         "Sweden",
         "58",
         "Female",
         "3",
         "30.0",
         "High",
         "Former",
         "Never",
         "Yes",
         "No",
         "Normal",
         "No",
         "49",
         "High",
         "Poor",
         "Unhealthy",
         "High",
         "Employed",
         "Married",
         "No",
         "Low",
         "Medium",
         "High",
         "Rural",
         "No"
        ]
       ],
       "shape": {
        "columns": 25,
        "rows": 5
       }
      },
      "text/html": [
       "<div>\n",
       "<style scoped>\n",
       "    .dataframe tbody tr th:only-of-type {\n",
       "        vertical-align: middle;\n",
       "    }\n",
       "\n",
       "    .dataframe tbody tr th {\n",
       "        vertical-align: top;\n",
       "    }\n",
       "\n",
       "    .dataframe thead th {\n",
       "        text-align: right;\n",
       "    }\n",
       "</style>\n",
       "<table border=\"1\" class=\"dataframe\">\n",
       "  <thead>\n",
       "    <tr style=\"text-align: right;\">\n",
       "      <th></th>\n",
       "      <th>Country</th>\n",
       "      <th>Age</th>\n",
       "      <th>Gender</th>\n",
       "      <th>Education Level</th>\n",
       "      <th>BMI</th>\n",
       "      <th>Physical Activity Level</th>\n",
       "      <th>Smoking Status</th>\n",
       "      <th>Alcohol Consumption</th>\n",
       "      <th>Diabetes</th>\n",
       "      <th>Hypertension</th>\n",
       "      <th>...</th>\n",
       "      <th>Dietary Habits</th>\n",
       "      <th>Air Pollution Exposure</th>\n",
       "      <th>Employment Status</th>\n",
       "      <th>Marital Status</th>\n",
       "      <th>Genetic Risk Factor (APOE-ε4 allele)</th>\n",
       "      <th>Social Engagement Level</th>\n",
       "      <th>Income Level</th>\n",
       "      <th>Stress Levels</th>\n",
       "      <th>Urban vs Rural Living</th>\n",
       "      <th>Alzheimer’s Diagnosis</th>\n",
       "    </tr>\n",
       "  </thead>\n",
       "  <tbody>\n",
       "    <tr>\n",
       "      <th>0</th>\n",
       "      <td>Spain</td>\n",
       "      <td>90</td>\n",
       "      <td>Male</td>\n",
       "      <td>1</td>\n",
       "      <td>33.0</td>\n",
       "      <td>Medium</td>\n",
       "      <td>Never</td>\n",
       "      <td>Occasionally</td>\n",
       "      <td>No</td>\n",
       "      <td>No</td>\n",
       "      <td>...</td>\n",
       "      <td>Healthy</td>\n",
       "      <td>High</td>\n",
       "      <td>Retired</td>\n",
       "      <td>Single</td>\n",
       "      <td>No</td>\n",
       "      <td>Low</td>\n",
       "      <td>Medium</td>\n",
       "      <td>High</td>\n",
       "      <td>Urban</td>\n",
       "      <td>No</td>\n",
       "    </tr>\n",
       "    <tr>\n",
       "      <th>1</th>\n",
       "      <td>Argentina</td>\n",
       "      <td>72</td>\n",
       "      <td>Male</td>\n",
       "      <td>7</td>\n",
       "      <td>29.9</td>\n",
       "      <td>Medium</td>\n",
       "      <td>Former</td>\n",
       "      <td>Never</td>\n",
       "      <td>No</td>\n",
       "      <td>No</td>\n",
       "      <td>...</td>\n",
       "      <td>Healthy</td>\n",
       "      <td>Medium</td>\n",
       "      <td>Unemployed</td>\n",
       "      <td>Widowed</td>\n",
       "      <td>No</td>\n",
       "      <td>High</td>\n",
       "      <td>Low</td>\n",
       "      <td>High</td>\n",
       "      <td>Urban</td>\n",
       "      <td>No</td>\n",
       "    </tr>\n",
       "    <tr>\n",
       "      <th>2</th>\n",
       "      <td>South Africa</td>\n",
       "      <td>86</td>\n",
       "      <td>Female</td>\n",
       "      <td>19</td>\n",
       "      <td>22.9</td>\n",
       "      <td>High</td>\n",
       "      <td>Current</td>\n",
       "      <td>Occasionally</td>\n",
       "      <td>No</td>\n",
       "      <td>Yes</td>\n",
       "      <td>...</td>\n",
       "      <td>Average</td>\n",
       "      <td>Medium</td>\n",
       "      <td>Employed</td>\n",
       "      <td>Single</td>\n",
       "      <td>No</td>\n",
       "      <td>Low</td>\n",
       "      <td>Medium</td>\n",
       "      <td>High</td>\n",
       "      <td>Rural</td>\n",
       "      <td>No</td>\n",
       "    </tr>\n",
       "    <tr>\n",
       "      <th>3</th>\n",
       "      <td>China</td>\n",
       "      <td>53</td>\n",
       "      <td>Male</td>\n",
       "      <td>17</td>\n",
       "      <td>31.2</td>\n",
       "      <td>Low</td>\n",
       "      <td>Never</td>\n",
       "      <td>Regularly</td>\n",
       "      <td>Yes</td>\n",
       "      <td>No</td>\n",
       "      <td>...</td>\n",
       "      <td>Healthy</td>\n",
       "      <td>Medium</td>\n",
       "      <td>Retired</td>\n",
       "      <td>Single</td>\n",
       "      <td>No</td>\n",
       "      <td>High</td>\n",
       "      <td>Medium</td>\n",
       "      <td>Low</td>\n",
       "      <td>Rural</td>\n",
       "      <td>No</td>\n",
       "    </tr>\n",
       "    <tr>\n",
       "      <th>4</th>\n",
       "      <td>Sweden</td>\n",
       "      <td>58</td>\n",
       "      <td>Female</td>\n",
       "      <td>3</td>\n",
       "      <td>30.0</td>\n",
       "      <td>High</td>\n",
       "      <td>Former</td>\n",
       "      <td>Never</td>\n",
       "      <td>Yes</td>\n",
       "      <td>No</td>\n",
       "      <td>...</td>\n",
       "      <td>Unhealthy</td>\n",
       "      <td>High</td>\n",
       "      <td>Employed</td>\n",
       "      <td>Married</td>\n",
       "      <td>No</td>\n",
       "      <td>Low</td>\n",
       "      <td>Medium</td>\n",
       "      <td>High</td>\n",
       "      <td>Rural</td>\n",
       "      <td>No</td>\n",
       "    </tr>\n",
       "  </tbody>\n",
       "</table>\n",
       "<p>5 rows × 25 columns</p>\n",
       "</div>"
      ],
      "text/plain": [
       "        Country  Age  Gender  Education Level   BMI Physical Activity Level  \\\n",
       "0         Spain   90    Male                1  33.0                  Medium   \n",
       "1     Argentina   72    Male                7  29.9                  Medium   \n",
       "2  South Africa   86  Female               19  22.9                    High   \n",
       "3         China   53    Male               17  31.2                     Low   \n",
       "4        Sweden   58  Female                3  30.0                    High   \n",
       "\n",
       "  Smoking Status Alcohol Consumption Diabetes Hypertension  ...  \\\n",
       "0          Never        Occasionally       No           No  ...   \n",
       "1         Former               Never       No           No  ...   \n",
       "2        Current        Occasionally       No          Yes  ...   \n",
       "3          Never           Regularly      Yes           No  ...   \n",
       "4         Former               Never      Yes           No  ...   \n",
       "\n",
       "  Dietary Habits Air Pollution Exposure  Employment Status Marital Status  \\\n",
       "0        Healthy                   High            Retired         Single   \n",
       "1        Healthy                 Medium         Unemployed        Widowed   \n",
       "2        Average                 Medium           Employed         Single   \n",
       "3        Healthy                 Medium            Retired         Single   \n",
       "4      Unhealthy                   High           Employed        Married   \n",
       "\n",
       "  Genetic Risk Factor (APOE-ε4 allele) Social Engagement Level Income Level  \\\n",
       "0                                   No                     Low       Medium   \n",
       "1                                   No                    High          Low   \n",
       "2                                   No                     Low       Medium   \n",
       "3                                   No                    High       Medium   \n",
       "4                                   No                     Low       Medium   \n",
       "\n",
       "  Stress Levels Urban vs Rural Living Alzheimer’s Diagnosis  \n",
       "0          High                 Urban                    No  \n",
       "1          High                 Urban                    No  \n",
       "2          High                 Rural                    No  \n",
       "3           Low                 Rural                    No  \n",
       "4          High                 Rural                    No  \n",
       "\n",
       "[5 rows x 25 columns]"
      ]
     },
     "execution_count": 1,
     "metadata": {},
     "output_type": "execute_result"
    }
   ],
   "source": [
    "import pandas as pd\n",
    "import numpy as np\n",
    "import matplotlib.pyplot as plt\n",
    "from sklearn.model_selection import train_test_split\n",
    "from sklearn.metrics import mean_squared_error\n",
    "\n",
    "df = pd.read_csv('alz.csv')\n",
    "df.head()"
   ]
  },
  {
   "cell_type": "code",
   "execution_count": null,
   "metadata": {},
   "outputs": [],
   "source": [
    "df[\"Age\"].value_counts()"
   ]
  },
  {
   "cell_type": "code",
   "execution_count": 12,
   "metadata": {},
   "outputs": [
    {
     "data": {
      "text/plain": [
       "<Axes: >"
      ]
     },
     "execution_count": 12,
     "metadata": {},
     "output_type": "execute_result"
    },
    {
     "data": {
      "image/png": "[encoded data removed]",
      "text/plain": [
       "<Figure size 640x480 with 1 Axes>"
      ]
     },
     "metadata": {},
     "output_type": "display_data"
    }
   ],
   "source": [
    "df[\"Age\"].hist(bins=60)"
   ]
  },
  {
   "cell_type": "code",
   "execution_count": 2,
   "metadata": {},
   "outputs": [
    {
     "name": "stdout",
     "output_type": "stream",
     "text": [
      "cat_cols = ['Country', 'Gender', 'Physical Activity Level', 'Smoking Status', 'Alcohol Consumption', 'Diabetes', 'Hypertension', 'Cholesterol Level', 'Family History of Alzheimer’s', 'Depression Level', 'Sleep Quality', 'Dietary Habits', 'Air Pollution Exposure', 'Employment Status', 'Marital Status', 'Genetic Risk Factor (APOE-ε4 allele)', 'Social Engagement Level', 'Income Level', 'Stress Levels', 'Urban vs Rural Living', 'Alzheimer’s Diagnosis', 'Education Level']\n",
      "num_cols = ['Age', 'BMI', 'Cognitive Test Score']\n",
      "num_but_cat = ['Education Level']\n",
      "cat_but_car= []\n"
     ]
    }
   ],
   "source": [
    "def grab_cols(df):\n",
    "    num_cols = list(df.select_dtypes(include=\"number\"))\n",
    "    cat_cols = [col for col in df.columns if col not in num_cols]\n",
    "    num_but_cat = [col for col in num_cols if df[col].nunique()<25]\n",
    "    cat_but_car = [col for col in cat_cols if df[col].nunique() >25]\n",
    "    cat_cols = cat_cols + num_but_cat\n",
    "    cat_cols = [col for col in cat_cols if col not in cat_but_car]\n",
    "    num_cols = [col for col in num_cols if col not in num_but_cat]\n",
    "    print(f\"cat_cols = {cat_cols}\")\n",
    "    print(f\"num_cols = {num_cols}\")\n",
    "    print(f\"num_but_cat = {num_but_cat}\")\n",
    "    print(f\"cat_but_car= {cat_but_car}\")\n",
    "    return cat_cols,num_cols,cat_but_car,num_but_cat\n",
    "cat_cols,num_cols,cat_but_car,num_but_cat = grab_cols(df)"
   ]
  },
  {
   "cell_type": "code",
   "execution_count": 3,
   "metadata": {},
   "outputs": [],
   "source": [
    "df[\"Cholesterol Level\"] = df[\"Cholesterol Level\"].map({\"Normal\": 0, \"High\": 1})"
   ]
  },
  {
   "cell_type": "code",
   "execution_count": 4,
   "metadata": {},
   "outputs": [
    {
     "name": "stdout",
     "output_type": "stream",
     "text": [
      "Column: Gender -> {'Female': 0, 'Male': 1}\n",
      "Column: Diabetes -> {'No': 0, 'Yes': 1}\n",
      "Column: Hypertension -> {'No': 0, 'Yes': 1}\n",
      "Column: Family History of Alzheimer’s -> {'No': 0, 'Yes': 1}\n",
      "Column: Genetic Risk Factor (APOE-ε4 allele) -> {'No': 0, 'Yes': 1}\n",
      "Column: Urban vs Rural Living -> {'Rural': 0, 'Urban': 1}\n",
      "Column: Alzheimer’s Diagnosis -> {'No': 0, 'Yes': 1}\n"
     ]
    }
   ],
   "source": [
    "binary_cols = ['Gender',\n",
    " 'Diabetes',\n",
    " 'Hypertension',\n",
    " 'Family History of Alzheimer’s',\n",
    " 'Genetic Risk Factor (APOE-ε4 allele)',\n",
    " 'Urban vs Rural Living',\n",
    " 'Alzheimer’s Diagnosis']\n",
    "from sklearn.preprocessing import LabelEncoder\n",
    "\n",
    "def label_encoder(df, col):\n",
    "    le = LabelEncoder()\n",
    "    df[col] = le.fit_transform(df[col])\n",
    "    \n",
    "    mapping = dict(zip(le.classes_, le.transform(le.classes_)))\n",
    "    print(f\"Column: {col} -> {mapping}\")\n",
    "    \n",
    "\n",
    "for c in binary_cols:\n",
    "    label_encoder(df, c)"
   ]
  },
  {
   "cell_type": "code",
   "execution_count": 5,
   "metadata": {},
   "outputs": [],
   "source": [
    "ordinal_cols = [\n",
    " 'Physical Activity Level',\n",
    " 'Depression Level',\n",
    " 'Sleep Quality',\n",
    " 'Dietary Habits',\n",
    " 'Air Pollution Exposure',\n",
    " 'Social Engagement Level',\n",
    " 'Income Level',\n",
    " 'Stress Levels']\n",
    "\n",
    "df['Physical Activity Level'] = df['Physical Activity Level'].map({'Low': 0, 'Medium': 1, 'High': 2})\n",
    "df['Depression Level'] = df['Depression Level'].map({'Low': 0, 'Medium': 1, 'High': 2})\n",
    "df['Sleep Quality'] = df['Sleep Quality'].map({'Poor': 0, 'Average': 1, 'Good': 2})\n",
    "df['Dietary Habits'] = df['Dietary Habits'].map({'Unhealthy': 0, 'Average': 1, 'Healthy': 2})\n",
    "df['Air Pollution Exposure'] = df['Air Pollution Exposure'].map({'Low': 0, 'Medium': 1, 'High': 2})\n",
    "df['Social Engagement Level'] = df['Social Engagement Level'].map({'Low': 0, 'Medium': 1, 'High': 2})\n",
    "df['Income Level'] = df['Income Level'].map({'Low': 0, 'Medium': 1, 'High': 2})\n",
    "df['Stress Levels'] = df['Stress Levels'].map({'Low': 0, 'Medium': 1, 'High': 2})"
   ]
  },
  {
   "cell_type": "code",
   "execution_count": 6,
   "metadata": {},
   "outputs": [],
   "source": [
    "ohe_cols = ['Country',\n",
    " 'Smoking Status',\n",
    " 'Alcohol Consumption',\n",
    " 'Employment Status',\n",
    " 'Marital Status']\n",
    "\n",
    "def ohe(dataframe,ohe_cols):\n",
    "    dataframe = pd.get_dummies(dataframe,columns=ohe_cols,drop_first=False,dtype=int)\n",
    "    return dataframe\n",
    "\n",
    "df= ohe(df,ohe_cols)\n",
    "\n",
    "X = df.drop(columns='Alzheimer’s Diagnosis')\n",
    "y = df['Alzheimer’s Diagnosis']"
   ]
  },
  {
   "cell_type": "code",
   "execution_count": 7,
   "metadata": {},
   "outputs": [
    {
     "data": {
      "text/plain": [
       "0.7246610801514187"
      ]
     },
     "execution_count": 7,
     "metadata": {},
     "output_type": "execute_result"
    }
   ],
   "source": [
    "from catboost import CatBoostClassifier\n",
    "from sklearn.model_selection import cross_val_score\n",
    "ctb = CatBoostClassifier(n_estimators=500,verbose=False,depth=5)\n",
    "cross_val_score(ctb,X,y,cv=20,scoring=\"accuracy\",n_jobs=-1).mean()"
   ]
  },
  {
   "cell_type": "code",
   "execution_count": 8,
   "metadata": {},
   "outputs": [
    {
     "data": {
      "text/plain": [
       "0.7075776897425696"
      ]
     },
     "execution_count": 8,
     "metadata": {},
     "output_type": "execute_result"
    }
   ],
   "source": [
    "from xgboost import XGBClassifier\n",
    "xgb = XGBClassifier(n_estimators=500,max_depth=5)\n",
    "cross_val_score(xgb,X,y,cv=20,scoring=\"accuracy\",n_jobs=-1).mean()"
   ]
  },
  {
   "cell_type": "code",
   "execution_count": 12,
   "metadata": {},
   "outputs": [
    {
     "name": "stdout",
     "output_type": "stream",
     "text": [
      "Accuracy: 0.7095, Recall: 0.7184, ROC AUC: 0.7835, ratio: 1.4187\n",
      "Accuracy: 0.7063, Recall: 0.7298, ROC AUC: 0.7864, ratio: 1.4187\n",
      "Accuracy: 0.6961, Recall: 0.7135, ROC AUC: 0.7772, ratio: 1.4187\n",
      "Accuracy: 0.7060, Recall: 0.7268, ROC AUC: 0.7765, ratio: 1.4186\n",
      "Accuracy: 0.7095, Recall: 0.7294, ROC AUC: 0.7821, ratio: 1.4186\n",
      "Accuracy: 0.7103, Recall: 0.7291, ROC AUC: 0.7903, ratio: 1.4186\n",
      "Accuracy: 0.7095, Recall: 0.7314, ROC AUC: 0.7836, ratio: 1.4186\n",
      "Accuracy: 0.7015, Recall: 0.7255, ROC AUC: 0.7833, ratio: 1.4186\n",
      "Accuracy: 0.7107, Recall: 0.7239, ROC AUC: 0.7845, ratio: 1.4186\n",
      "Accuracy: 0.7209, Recall: 0.7388, ROC AUC: 0.7922, ratio: 1.4186\n",
      "\n",
      "Average Metrics:\n",
      "Accuracy: 0.7080\n",
      "Recall: 0.7267\n",
      "ROC AUC: 0.7840\n"
     ]
    }
   ],
   "source": [
    "import xgboost as xgb\n",
    "from sklearn.model_selection import StratifiedKFold\n",
    "from sklearn.metrics import accuracy_score, recall_score, roc_auc_score\n",
    "\n",
    "# Stratified K-Fold oluşturma (sınıf dağılımını korur)\n",
    "skf = StratifiedKFold(n_splits=10, shuffle=True, random_state=42)\n",
    "\n",
    "# Metrikleri saklamak için boş listeler\n",
    "accuracies = []\n",
    "recalls = []\n",
    "roc_aucs = []\n",
    "\n",
    "for train_idx, test_idx in skf.split(X, y):\n",
    "    X_train, X_test = X.iloc[train_idx], X.iloc[test_idx]\n",
    "    y_train, y_test = y.iloc[train_idx], y.iloc[test_idx]\n",
    "\n",
    "    # scale_pos_weight hesaplama\n",
    "    ratio = float(y_train.loc[y_train == 0].shape[0]) / y_train.loc[y_train == 1].shape[0]\n",
    "\n",
    "    clf = xgb.XGBClassifier(scale_pos_weight=ratio, n_estimators=300, max_depth=5)\n",
    "\n",
    "    # Modeli eğit\n",
    "    clf.fit(X_train, y_train)\n",
    "\n",
    "    # Test verisi üzerinde tahmin yap\n",
    "    predictions = clf.predict(X_test)\n",
    "    probas = clf.predict_proba(X_test)[:,1]\n",
    "\n",
    "    # Metrikleri hesapla\n",
    "    acc = accuracy_score(y_test, predictions)\n",
    "    rec = recall_score(y_test, predictions)\n",
    "    roc_auc = roc_auc_score(y_test, probas)\n",
    "\n",
    "    accuracies.append(acc)\n",
    "    recalls.append(rec)\n",
    "    roc_aucs.append(roc_auc)\n",
    "\n",
    "    print(f\"Accuracy: {acc:.4f}, Recall: {rec:.4f}, ROC AUC: {roc_auc:.4f}, ratio: {ratio:.4f}\")\n",
    "\n",
    "# Ortalama metrik değerlerini yazdırma\n",
    "print(\"\\nAverage Metrics:\")\n",
    "print(f\"Accuracy: {sum(accuracies)/len(accuracies):.4f}\")\n",
    "print(f\"Recall: {sum(recalls)/len(recalls):.4f}\")\n",
    "print(f\"ROC AUC: {sum(roc_aucs)/len(roc_aucs):.4f}\")"
   ]
  },
  {
   "cell_type": "code",
   "execution_count": 13,
   "metadata": {},
   "outputs": [
    {
     "name": "stdout",
     "output_type": "stream",
     "text": [
      "Accuracy: 0.7176, Recall: 0.7617, ROC AUC: 0.7993, ratio: 1.4187\n",
      "Accuracy: 0.7175, Recall: 0.7751, ROC AUC: 0.8011, ratio: 1.4187\n",
      "Accuracy: 0.7164, Recall: 0.7663, ROC AUC: 0.7964, ratio: 1.4187\n",
      "Accuracy: 0.7132, Recall: 0.7662, ROC AUC: 0.7932, ratio: 1.4186\n",
      "Accuracy: 0.7200, Recall: 0.7698, ROC AUC: 0.8001, ratio: 1.4186\n",
      "Accuracy: 0.7237, Recall: 0.7760, ROC AUC: 0.8039, ratio: 1.4186\n",
      "Accuracy: 0.7211, Recall: 0.7682, ROC AUC: 0.7970, ratio: 1.4186\n",
      "Accuracy: 0.7163, Recall: 0.7698, ROC AUC: 0.7997, ratio: 1.4186\n",
      "Accuracy: 0.7208, Recall: 0.7587, ROC AUC: 0.7998, ratio: 1.4186\n",
      "Accuracy: 0.7290, Recall: 0.7727, ROC AUC: 0.8087, ratio: 1.4186\n",
      "\n",
      "Average Metrics:\n",
      "Accuracy: 0.7196\n",
      "Recall: 0.7684\n",
      "ROC AUC: 0.7999\n"
     ]
    }
   ],
   "source": [
    "from catboost import CatBoostClassifier\n",
    "from sklearn.model_selection import StratifiedKFold\n",
    "from sklearn.metrics import accuracy_score, recall_score, roc_auc_score\n",
    "\n",
    "# Stratified K-Fold oluşturma (sınıf dağılımını korur)\n",
    "skf = StratifiedKFold(n_splits=10, shuffle=True, random_state=42)\n",
    "\n",
    "# Metrikleri saklamak için boş listeler\n",
    "accuracies = []\n",
    "recalls = []\n",
    "roc_aucs = []\n",
    "\n",
    "for train_idx, test_idx in skf.split(X, y):\n",
    "    X_train, X_test = X.iloc[train_idx], X.iloc[test_idx]\n",
    "    y_train, y_test = y.iloc[train_idx], y.iloc[test_idx]\n",
    "    \n",
    "    # class_weights için ratio hesaplama\n",
    "    negative_count = (y_train == 0).sum()\n",
    "    positive_count = (y_train == 1).sum()\n",
    "    \n",
    "    ratio = float(negative_count) / float(positive_count)\n",
    "    \n",
    "    # CatBoostClassifier tanımlama\n",
    "    # class_weights -> ör. [1, ratio] şeklinde atayıp \n",
    "    # minority sınıfa (1) daha fazla ağırlık veriyoruz\n",
    "    clf = CatBoostClassifier(\n",
    "        class_weights=[1, ratio],\n",
    "        iterations=300,\n",
    "        depth=5,\n",
    "        random_seed=42,\n",
    "        # verbose=False diyerek eğitim çıktısını kapatabilirsiniz\n",
    "        # eğer öğrenme süreci ekran çıktısı istemiyorsanız\n",
    "        verbose=False\n",
    "    )\n",
    "    \n",
    "    # Modeli eğit\n",
    "    clf.fit(X_train, y_train)\n",
    "    \n",
    "    # Test verisi üzerinde tahmin yap\n",
    "    predictions = clf.predict(X_test)\n",
    "    probas = clf.predict_proba(X_test)[:, 1]\n",
    "    \n",
    "    # Metrikleri hesapla\n",
    "    acc = accuracy_score(y_test, predictions)\n",
    "    rec = recall_score(y_test, predictions)\n",
    "    roc_auc = roc_auc_score(y_test, probas)\n",
    "    \n",
    "    accuracies.append(acc)\n",
    "    recalls.append(rec)\n",
    "    roc_aucs.append(roc_auc)\n",
    "    \n",
    "    print(f\"Accuracy: {acc:.4f}, Recall: {rec:.4f}, \"\n",
    "          f\"ROC AUC: {roc_auc:.4f}, ratio: {ratio:.4f}\")\n",
    "\n",
    "# Ortalama metrik değerlerini yazdırma\n",
    "print(\"\\nAverage Metrics:\")\n",
    "print(f\"Accuracy: {sum(accuracies)/len(accuracies):.4f}\")\n",
    "print(f\"Recall: {sum(recalls)/len(recalls):.4f}\")\n",
    "print(f\"ROC AUC: {sum(roc_aucs)/len(roc_aucs):.4f}\")"
   ]
  },
  {
   "cell_type": "code",
   "execution_count": null,
   "metadata": {},
   "outputs": [],
   "source": []
  }
 ],
 "metadata": {
  "kernelspec": {
   "display_name": "datamining",
   "language": "python",
   "name": "python3"
  },
  "language_info": {
   "codemirror_mode": {
    "name": "ipython",
    "version": 3
   },
   "file_extension": ".py",
   "mimetype": "text/x-python",
   "name": "python",
   "nbconvert_exporter": "python",
   "pygments_lexer": "ipython3",
   "version": "3.11.9"
  }
 },
 "nbformat": 4,
 "nbformat_minor": 2
}
